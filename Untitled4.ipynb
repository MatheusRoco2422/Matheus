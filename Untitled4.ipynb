{
  "nbformat": 4,
  "nbformat_minor": 0,
  "metadata": {
    "colab": {
      "provenance": [],
      "authorship_tag": "ABX9TyPRpKN1sHXocq9WTNGVu2j6",
      "include_colab_link": true
    },
    "kernelspec": {
      "name": "python3",
      "display_name": "Python 3"
    },
    "language_info": {
      "name": "python"
    }
  },
  "cells": [
    {
      "cell_type": "markdown",
      "metadata": {
        "id": "view-in-github",
        "colab_type": "text"
      },
      "source": [
        "<a href=\"https://colab.research.google.com/github/MatheusRoco2422/Matheus/blob/main/Untitled4.ipynb\" target=\"_parent\"><img src=\"https://colab.research.google.com/assets/colab-badge.svg\" alt=\"Open In Colab\"/></a>"
      ]
    },
    {
      "cell_type": "code",
      "execution_count": null,
      "metadata": {
        "id": "OMukFJ3rD7mw"
      },
      "outputs": [],
      "source": []
    },
    {
      "cell_type": "code",
      "source": [
        "numero = int(input(\"Digite um número inteiro\"))\n",
        "if numero % 2 == 0:\n",
        "    print(f\"o número {numero} é par.\")\n",
        "else:\n",
        "    print(f\"o número {numero} e impar\")\n"
      ],
      "metadata": {
        "colab": {
          "base_uri": "https://localhost:8080/"
        },
        "id": "tuVNrfshelnR",
        "outputId": "0600152d-6bd5-43df-80a9-d7ec3e661cd6"
      },
      "execution_count": 2,
      "outputs": [
        {
          "output_type": "stream",
          "name": "stdout",
          "text": [
            "Digite um número inteiro4\n",
            "o número 4 é par.\n"
          ]
        }
      ]
    },
    {
      "cell_type": "code",
      "source": [
        "import math\n",
        "\n",
        "numero = float(input(\"digite um numero: \"))\n",
        "\n",
        "if numero >= 0:\n",
        "    raiz_quadrada = math.sqrt(numero)\n",
        "    print(f\"A raiz quadrada de {numero} é {raiz_quadrada:.2f}.\")\n",
        "else:\n",
        "    print(\"não existe raiz real para este número!\")"
      ],
      "metadata": {
        "colab": {
          "base_uri": "https://localhost:8080/"
        },
        "id": "xzBPWfazhluj",
        "outputId": "0351aa78-7a25-4ef6-a71d-648fabb6557e"
      },
      "execution_count": 8,
      "outputs": [
        {
          "output_type": "stream",
          "name": "stdout",
          "text": [
            "digite um numero: 94\n",
            "A raiz quadrada de 94.0 é 9.70.\n"
          ]
        }
      ]
    },
    {
      "cell_type": "code",
      "source": [
        "comprimento = float (input(\"Digite o comprimento da camiseta em centímetros: \"))\n",
        "largura = float(input(\"Digite a largura da camiseta em centímetros: \"))\n",
        "if comprimento <= 60 and largura <= 45:\n",
        "    tamanho = \"pp\"\n",
        "elif comprimento <= 65 and largura <= 48:\n",
        "    tamanho = \"p\"\n",
        "elif comprimento <= 70 and largura <= 51:\n",
        "    tamanho = \"m\"\n",
        "elif comprimento <= 75 and largura <= 54:\n",
        "    tamanho = \"g\"\n",
        "elif comprimento <= 80 and largura <= 57:\n",
        "    tamanho = \"gg\"\n",
        "else:\n",
        "    tamanho = \"xgg\"\n",
        "print(f\"o tamanho da camiseta é {tamanho}.\")\n",
        ""
      ],
      "metadata": {
        "colab": {
          "base_uri": "https://localhost:8080/"
        },
        "id": "KvfpTUpxljNh",
        "outputId": "db8446b9-03c5-408c-920d-056be697b418"
      },
      "execution_count": 9,
      "outputs": [
        {
          "output_type": "stream",
          "name": "stdout",
          "text": [
            "Digite o comprimento da camiseta em centímetros: 50\n",
            "Digite a largura da camiseta em centímetros: 20\n",
            "o tamanho da camiseta é pp.\n"
          ]
        }
      ]
    }
  ]
}