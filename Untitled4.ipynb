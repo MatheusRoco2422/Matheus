{
  "nbformat": 4,
  "nbformat_minor": 0,
  "metadata": {
    "colab": {
      "provenance": [],
      "authorship_tag": "ABX9TyNAb0Dh7dP4YvmYDVBTSoel",
      "include_colab_link": true
    },
    "kernelspec": {
      "name": "python3",
      "display_name": "Python 3"
    },
    "language_info": {
      "name": "python"
    }
  },
  "cells": [
    {
      "cell_type": "markdown",
      "metadata": {
        "id": "view-in-github",
        "colab_type": "text"
      },
      "source": [
        "<a href=\"https://colab.research.google.com/github/MatheusRoco2422/Matheus/blob/main/Untitled4.ipynb\" target=\"_parent\"><img src=\"https://colab.research.google.com/assets/colab-badge.svg\" alt=\"Open In Colab\"/></a>"
      ]
    },
    {
      "cell_type": "code",
      "execution_count": 3,
      "metadata": {
        "id": "OMukFJ3rD7mw",
        "colab": {
          "base_uri": "https://localhost:8080/"
        },
        "outputId": "e035aa8a-db01-4609-bbdf-cc0020028e23"
      },
      "outputs": [
        {
          "output_type": "stream",
          "name": "stdout",
          "text": [
            "<class 'int'>\n",
            "<class 'float'>\n",
            "<class 'float'>\n",
            "5.0\n"
          ]
        }
      ],
      "source": [
        "#comentario Pyton\n",
        "a= 2\n",
        "print(type(a))\n",
        "b= 3.0\n",
        "print(type(b))\n",
        "soma = a+b\n",
        "print(type(soma))\n",
        "print(soma)"
      ]
    },
    {
      "cell_type": "markdown",
      "source": [
        "importancia dos tipos de dados"
      ],
      "metadata": {
        "id": "fGaJvzD4guiU"
      }
    },
    {
      "cell_type": "code",
      "source": [
        "num = int(input(\"Digite um número inteiro:\"))\n",
        "print(type(num))\n",
        "quoc = num//2\n",
        "resto = num%2\n",
        "print(\"quociente = \", quoc)\n",
        "print(\"Resto = \", resto)"
      ],
      "metadata": {
        "colab": {
          "base_uri": "https://localhost:8080/"
        },
        "id": "U9jBQdaug4HM",
        "outputId": "86fa38b7-5d1a-4ac2-f430-857f3ee30386"
      },
      "execution_count": 6,
      "outputs": [
        {
          "output_type": "stream",
          "name": "stdout",
          "text": [
            "Digite um número inteiro:9\n",
            "<class 'int'>\n",
            "quociente =  4\n",
            "Resto =  1\n"
          ]
        }
      ]
    },
    {
      "cell_type": "markdown",
      "source": [
        "calculo de média de dois valores\n"
      ],
      "metadata": {
        "id": "OvgDMkHSjMuD"
      }
    },
    {
      "cell_type": "code",
      "source": [
        "v1 = float(input(\"Digite o primeiro valor: \"))\n",
        "v2 = float(input(\"Digite o segundo valor: \"))\n",
        "media = (v1+v2)/2\n",
        "print(\" A media é: \", media)"
      ],
      "metadata": {
        "colab": {
          "base_uri": "https://localhost:8080/"
        },
        "id": "HyGq1BjjjUUb",
        "outputId": "59fff899-4332-47df-df2f-08a6f94f8ba5"
      },
      "execution_count": 7,
      "outputs": [
        {
          "output_type": "stream",
          "name": "stdout",
          "text": [
            "Digite o primeiro valor: 5\n",
            "Digite o segundo valor: 10\n",
            " A media é:  7.5\n"
          ]
        }
      ]
    },
    {
      "cell_type": "markdown",
      "source": [
        "calculo da area"
      ],
      "metadata": {
        "id": "qI-5trFNkYMa"
      }
    },
    {
      "cell_type": "code",
      "source": [
        "b1 = float(input(\"digite a base: \"))\n",
        "h1 = float(input(\"digite a altura: \"))\n",
        "area =(b1*h1)\n",
        "print(\" A AREA É: \", area)"
      ],
      "metadata": {
        "colab": {
          "base_uri": "https://localhost:8080/"
        },
        "id": "1-ckcel_kbQx",
        "outputId": "cbd52366-4fb0-4e85-b481-8c64273f0ee1"
      },
      "execution_count": 8,
      "outputs": [
        {
          "output_type": "stream",
          "name": "stdout",
          "text": [
            "digite a base: 5\n",
            "digite a altura: 2\n",
            " A AREA É:  10.0\n"
          ]
        }
      ]
    }
  ]
}